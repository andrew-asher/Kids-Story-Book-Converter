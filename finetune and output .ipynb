{
 "cells": [
  {
   "cell_type": "markdown",
   "metadata": {},
   "source": [
    "first custom model loaaded with allenai/multinews_dense_oracle dataset -  output"
   ]
  },
  {
   "cell_type": "code",
   "execution_count": 2,
   "metadata": {},
   "outputs": [],
   "source": [
    "from transformers import TFT5ForConditionalGeneration\n",
    "import tensorflow as tf\n",
    "from transformers import TFT5ForConditionalGeneration, T5Tokenizer"
   ]
  },
  {
   "cell_type": "code",
   "execution_count": 4,
   "metadata": {},
   "outputs": [],
   "source": [
    "# Specify the path to your model and tokenizer files\n",
    "model_path = \"/Users/andrewasher/Education/Research Project/Andrew/custom-t5-model/model\"\n",
    "tokenizer_path = \"/Users/andrewasher/Education/Research Project/Andrew/custom-t5-model/tokenizer_custom\"\n",
    "\n"
   ]
  },
  {
   "cell_type": "code",
   "execution_count": 5,
   "metadata": {},
   "outputs": [
    {
     "name": "stderr",
     "output_type": "stream",
     "text": [
      "All model checkpoint layers were used when initializing TFT5ForConditionalGeneration.\n",
      "\n",
      "All the layers of TFT5ForConditionalGeneration were initialized from the model checkpoint at /Users/andrewasher/Education/Research Project/Andrew/custom-t5-model/model.\n",
      "If your task is similar to the task the model of the checkpoint was trained on, you can already use TFT5ForConditionalGeneration for predictions without further training.\n",
      "Special tokens have been added in the vocabulary, make sure the associated word embeddings are fine-tuned or trained.\n"
     ]
    }
   ],
   "source": [
    "\n",
    "# Load the model and tokenizer\n",
    "model = TFT5ForConditionalGeneration.from_pretrained(model_path)\n",
    "tokenizer = T5Tokenizer.from_pretrained(tokenizer_path)\n"
   ]
  },
  {
   "cell_type": "code",
   "execution_count": 6,
   "metadata": {},
   "outputs": [],
   "source": [
    "# Define the input text that you want to summarize\n",
    "input_text = \"\"\"\n",
    "In a charming little village, there lived a curious boy named Andy. He was known for his love of adventure and his fondness for kites. One sunny morning, Andy decided to try out a special kite his grandfather had given him – a kite with a shimmering tail. As he flew the kite in the meadow, a gust of wind pulled it higher and higher. To Andy's amazement, the kite suddenly came to life! It introduced itself as Spark and explained that it had magical powers. Spark invited Andy to hop onto the kite's tail, promising to take him on a grand adventure. Without hesitation, Andy climbed aboard. The kite soared high into the sky, and in the blink of an eye, they were floating among the clouds. They visited a candy floss cloud, a chocolate river, and a marshmallow mountain. They even met a friendly cloud creature named Fluffy, who shared stories of the sky. Andy was in awe of the magical world above. As the sun began to set, Spark gently carried Andy back to the meadow. Andy thanked Spark for the incredible adventure and watched it float back to his hand. From that day forward, Andy's kite became his loyal friend and companion, and together they embarked on many more magical adventures, exploring the wonders of the world and beyond.\n",
    "\"\"\"\n",
    "\n"
   ]
  },
  {
   "cell_type": "code",
   "execution_count": 7,
   "metadata": {},
   "outputs": [
    {
     "name": "stderr",
     "output_type": "stream",
     "text": [
      "2023-10-28 11:30:49.025124: I tensorflow/compiler/xla/service/service.cc:168] XLA service 0x295daceb0 initialized for platform Host (this does not guarantee that XLA will be used). Devices:\n",
      "2023-10-28 11:30:49.025136: I tensorflow/compiler/xla/service/service.cc:176]   StreamExecutor device (0): Host, Default Version\n",
      "2023-10-28 11:30:49.053246: I tensorflow/compiler/mlir/tensorflow/utils/dump_mlir_util.cc:269] disabling MLIR crash reproducer, set env var `MLIR_CRASH_REPRODUCER_DIRECTORY` to enable.\n",
      "2023-10-28 11:30:49.146648: I ./tensorflow/compiler/jit/device_compiler.h:186] Compiled cluster using XLA!  This line is logged at most once for the lifetime of the process.\n",
      "2023-10-28 11:30:49.147454: E ./tensorflow/compiler/xla/stream_executor/stream_executor_internal.h:124] SetPriority unimplemented for this stream.\n"
     ]
    }
   ],
   "source": [
    "# Tokenize and generate the summary\n",
    "input_ids = tokenizer.encode(\"summarize: \" + input_text, return_tensors=\"tf\", max_length=512, truncation=True)\n",
    "summary_ids = model.generate(input_ids, max_length=100, min_length=40, length_penalty=2.0, num_beams=4, early_stopping=True)\n"
   ]
  },
  {
   "cell_type": "code",
   "execution_count": 27,
   "metadata": {},
   "outputs": [
    {
     "name": "stdout",
     "output_type": "stream",
     "text": [
      "Generated Summary:\n",
      "– In a charming little village in California, a boy named Andy flew his kite into a meadow with a gust of wind pulled it higher and higher. To Andy's amazement, the kite suddenly came to life! It introduced itself as Spark and explained that it had magical powers. Spark invited Andy to hop onto the kite's tail, promising to take him on a grand adventure. The sky was a candy floss cloud,\n"
     ]
    }
   ],
   "source": [
    "# Decode the generated summary\n",
    "summary = tokenizer.decode(summary_ids[0], skip_special_tokens=True)\n",
    "\n",
    "# Print the summary\n",
    "print(\"Generated Summary:\")\n",
    "print(summary)"
   ]
  },
  {
   "cell_type": "markdown",
   "metadata": {},
   "source": [
    "Going to fine tune with a some stories few dataset "
   ]
  },
  {
   "cell_type": "code",
   "execution_count": 36,
   "metadata": {},
   "outputs": [],
   "source": [
    "import pandas as pd\n",
    "\n",
    "data_path = \"dataset.csv\"\n",
    "df = pd.read_csv(data_path)\n"
   ]
  },
  {
   "cell_type": "code",
   "execution_count": 37,
   "metadata": {},
   "outputs": [
    {
     "name": "stderr",
     "output_type": "stream",
     "text": [
      "Special tokens have been added in the vocabulary, make sure the associated word embeddings are fine-tuned or trained.\n"
     ]
    }
   ],
   "source": [
    "from transformers import T5Tokenizer\n",
    "\n",
    "tokenizer_path = '/Users/andrewasher/Education/Research Project/Andrew/custom-t5-model/tokenizer_custom'  # Change this path to where you've saved your tokenizer.\n",
    "tokenizer = T5Tokenizer.from_pretrained(tokenizer_path)\n",
    "\n",
    "MAX_TOKENS = 512\n",
    "tokenized_inputs = tokenizer(df['Story'].tolist(), max_length=MAX_TOKENS, truncation=True, padding='max_length', return_tensors='tf')\n",
    "tokenized_outputs = tokenizer(df['Summary'].tolist(), max_length=MAX_TOKENS, truncation=True, padding='max_length', return_tensors='tf')\n"
   ]
  },
  {
   "cell_type": "code",
   "execution_count": 38,
   "metadata": {},
   "outputs": [
    {
     "name": "stdout",
     "output_type": "stream",
     "text": [
      "Original vs. Decoded (Stories):\n",
      "Original: Once upon a time in a quaint little village, there lived a kind-hearted boy named Oliver. He was known for his helpful nature and was loved by all in the village. One sunny day, as he was taking a walk in the forest, he stumbled upon an old, rusted key. Intrigued, Oliver decided to find the lock that the key belonged to. He spent days exploring the village, asking everyone if they had lost a key, but no one claimed it. Determined to solve the mystery, he ventured deep into the forest. After hours of searching, he discovered an ancient, ornate door hidden behind the thick foliage. The key fit perfectly, and with a turn, the door creaked open. To his amazement, he found a beautiful garden inside, filled with flowers of every color and trees laden with fruit. The garden, he soon learned, had been locked away for generations, forgotten by time. Oliver shared the secret with the villagers, and the garden became a place of joy and abundance for all. It was a reminder that sometimes, the most precious treasures are hidden in plain sight.\n",
      "Decoded: Once upon a time in a quaint little village, there lived a kind-hearted boy named Oliver. He was known for his helpful nature and was loved by all in the village. One sunny day, as he was taking a walk in the forest, he stumbled upon an old, rusted key. Intrigued, Oliver decided to find the lock that the key belonged to. He spent days exploring the village, asking everyone if they had lost a key, but no one claimed it. Determined to solve the mystery, he ventured deep into the forest. After hours of searching, he discovered an ancient, ornate door hidden behind the thick foliage. The key fit perfectly, and with a turn, the door creaked open. To his amazement, he found a beautiful garden inside, filled with flowers of every color and trees laden with fruit. The garden, he soon learned, had been locked away for generations, forgotten by time. Oliver shared the secret with the villagers, and the garden became a place of joy and abundance for all. It was a reminder that sometimes, the most precious treasures are hidden in plain sight.\n",
      "==================================================\n",
      "Original: Tommy was a young boy with a wild imagination. One clear summer night, he decided to camp out in his backyard with his trusty telescope. As he gazed at the starry sky, he noticed one star that seemed to shine brighter than the rest. Curiosity piqued; he made a wish upon that star – a wish for a grand adventure. To his astonishment, the star began to shimmer and grow larger until it fell from the sky, landing nearby. With a mixture of excitement and fear, Tommy approached the fallen star. It wasn't a star at all but a tiny spaceship with a friendly alien named Zara inside. Zara explained that she had heard his wish and had come to take him on an intergalactic adventure. Tommy hesitated for a moment but then climbed aboard the spaceship. They soared through the cosmos, visiting distant planets, meeting strange creatures, and having the time of their lives. Tommy's wish had come true in the most incredible way. As dawn approached, Zara returned him safely to his backyard. Tommy waved goodbye to his newfound friend and watched as the spaceship disappeared into the sky. It had been a night he would never forget, and he knew that the universe was full of wonders beyond imagination.\n",
      "Decoded: Tommy was a young boy with a wild imagination. One clear summer night, he decided to camp out in his backyard with his trusty telescope. As he gazed at the starry sky, he noticed one star that seemed to shine brighter than the rest. Curiosity piqued; he made a wish upon that star – a wish for a grand adventure. To his astonishment, the star began to shimmer and grow larger until it fell from the sky, landing nearby. With a mixture of excitement and fear, Tommy approached the fallen star. It wasn't a star at all but a tiny spaceship with a friendly alien named Zara inside. Zara explained that she had heard his wish and had come to take him on an intergalactic adventure. Tommy hesitated for a moment but then climbed aboard the spaceship. They soared through the cosmos, visiting distant planets, meeting strange creatures, and having the time of their lives. Tommy's wish had come true in the most incredible way. As dawn approached, Zara returned him safely to his backyard. Tommy waved goodbye to his newfound friend and watched as the spaceship disappeared into the sky. It had been a night he would never forget, and he knew that the universe was full of wonders beyond imagination.\n",
      "==================================================\n",
      "Original: In a small, quiet village, there lived a poor artist named Maya. She longed for a magical paintbrush that could bring her paintings to life. One day, as she sat by the river, a talking frog appeared. The frog granted her wish, giving her a paintbrush that could make her dreams a reality. Maya’s first creation was a magnificent tree, and as soon as she painted it, it sprouted in her garden. Excitement filled her heart as she realized the power of the brush. She painted a river that flowed with crystal-clear water and a sky filled with brilliant stars. But soon, greed took over her heart. She painted a grand palace and began to live a life of luxury. Her friends and family, concerned by her change, tried to remind her of the happiness she once had. One day, Maya painted a beautiful bird and wished for it to sing. Instead, it let out a mournful cry. She realized that her magical brush had lost its power because she had used it for selfish desires. Filled with regret, Maya painted a simple, humble cottage and wished for her old life back. The cottage appeared, and her heart felt light once more. She returned to her village, where she shared her story and the lessons she had learned about the true meaning of happiness and contentment. The magical paintbrush remained in her hands, but she vowed to use it only for good, creating art that would inspire and bring joy to others. These short stories offer a glimpse into different worlds and lessons about kindness, curiosity, and the consequences of our choices.\n",
      "Decoded: In a small, quiet village, there lived a poor artist named Maya. She longed for a magical paintbrush that could bring her paintings to life. One day, as she sat by the river, a talking frog appeared. The frog granted her wish, giving her a paintbrush that could make her dreams a reality. Maya’s first creation was a magnificent tree, and as soon as she painted it, it sprouted in her garden. Excitement filled her heart as she realized the power of the brush. She painted a river that flowed with crystal-clear water and a sky filled with brilliant stars. But soon, greed took over her heart. She painted a grand palace and began to live a life of luxury. Her friends and family, concerned by her change, tried to remind her of the happiness she once had. One day, Maya painted a beautiful bird and wished for it to sing. Instead, it let out a mournful cry. She realized that her magical brush had lost its power because she had used it for selfish desires. Filled with regret, Maya painted a simple, humble cottage and wished for her old life back. The cottage appeared, and her heart felt light once more. She returned to her village, where she shared her story and the lessons she had learned about the true meaning of happiness and contentment. The magical paintbrush remained in her hands, but she vowed to use it only for good, creating art that would inspire and bring joy to others. These short stories offer a glimpse into different worlds and lessons about kindness, curiosity, and the consequences of our choices.\n",
      "==================================================\n",
      "\n",
      "Original vs. Decoded (Summaries):\n",
      "Original: In a small village, a kind-hearted boy named Oliver discovers an old, rusted key in the forest. After searching, he finds an ornate door hidden behind the foliage, which opens to reveal a beautiful garden. The garden, hidden for generations, was once a place of joy and abundance. Oliver shares the secret with the villagers, reminding them that the most precious treasures are often hidden in plain sight.\n",
      "Decoded: In a small village, a kind-hearted boy named Oliver discovers an old, rusted key in the forest. After searching, he finds an ornate door hidden behind the foliage, which opens to reveal a beautiful garden. The garden, hidden for generations, was once a place of joy and abundance. Oliver shares the secret with the villagers, reminding them that the most precious treasures are often hidden in plain sight.\n",
      "==================================================\n",
      "Original: Tommy, a young boy with a wild imagination, made a wish for a grand adventure when he saw a brighter star in the sky. It turned out to be a tiny spaceship with a friendly alien named Zara. They embarked on an intergalactic adventure, visiting distant planets, and encountering strange creatures. As dawn approached, Zara returned Tommy safely to his backyard, leaving him to cherish the unforgettable night.\n",
      "Decoded: Tommy, a young boy with a wild imagination, made a wish for a grand adventure when he saw a brighter star in the sky. It turned out to be a tiny spaceship with a friendly alien named Zara. They embarked on an intergalactic adventure, visiting distant planets, and encountering strange creatures. As dawn approached, Zara returned Tommy safely to his backyard, leaving him to cherish the unforgettable night.\n",
      "==================================================\n",
      "Original: In a small village, Maya, a poor artist, sought a magical paintbrush to bring her dreams to life. A talking frog granted her wish, and she painted a beautiful tree, a river, and a sky filled with stars. However, greed took over, leading to a life of luxury. Maya's magical brush lost its power, and she painted a humble cottage, wishing for her old life back. She returned to her village, sharing her story and lessons about kindness, curiosity, and the consequences of our choices.\n",
      "Decoded: In a small village, Maya, a poor artist, sought a magical paintbrush to bring her dreams to life. A talking frog granted her wish, and she painted a beautiful tree, a river, and a sky filled with stars. However, greed took over, leading to a life of luxury. Maya's magical brush lost its power, and she painted a humble cottage, wishing for her old life back. She returned to her village, sharing her story and lessons about kindness, curiosity, and the consequences of our choices.\n",
      "==================================================\n",
      "\n",
      "Tokenized Sequence Lengths (Stories):\n",
      "Length for Story 1: 512\n",
      "Length for Story 2: 512\n",
      "Length for Story 3: 512\n",
      "\n",
      "Tokenized Sequence Lengths (Summaries):\n",
      "Length for Summary 1: 512\n",
      "Length for Summary 2: 512\n",
      "Length for Summary 3: 512\n",
      "\n",
      "Shapes:\n",
      "Tokenized Inputs Shape: (20, 512)\n",
      "Tokenized Outputs Shape: (20, 512)\n"
     ]
    }
   ],
   "source": [
    "# Decode a few tokenized sequences back to text\n",
    "sample_idx = [0, 1, 2]  # You can pick any indices to inspect.\n",
    "\n",
    "print(\"Original vs. Decoded (Stories):\")\n",
    "for idx in sample_idx:\n",
    "    decoded_text = tokenizer.decode(tokenized_inputs['input_ids'][idx], skip_special_tokens=True)\n",
    "    print(\"Original:\", df['Story'].iloc[idx])\n",
    "    print(\"Decoded:\", decoded_text)\n",
    "    print(\"=\" * 50)\n",
    "\n",
    "print(\"\\nOriginal vs. Decoded (Summaries):\")\n",
    "for idx in sample_idx:\n",
    "    decoded_text = tokenizer.decode(tokenized_outputs['input_ids'][idx], skip_special_tokens=True)\n",
    "    print(\"Original:\", df['Summary'].iloc[idx])\n",
    "    print(\"Decoded:\", decoded_text)\n",
    "    print(\"=\" * 50)\n",
    "\n",
    "# Print out the lengths of some tokenized sequences\n",
    "print(\"\\nTokenized Sequence Lengths (Stories):\")\n",
    "for idx in sample_idx:\n",
    "    print(f\"Length for Story {idx + 1}:\", len(tokenized_inputs['input_ids'][idx]))\n",
    "\n",
    "print(\"\\nTokenized Sequence Lengths (Summaries):\")\n",
    "for idx in sample_idx:\n",
    "    print(f\"Length for Summary {idx + 1}:\", len(tokenized_outputs['input_ids'][idx]))\n",
    "\n",
    "# Check the shape of the tokenized tensors\n",
    "print(\"\\nShapes:\")\n",
    "print(\"Tokenized Inputs Shape:\", tokenized_inputs['input_ids'].shape)\n",
    "print(\"Tokenized Outputs Shape:\", tokenized_outputs['input_ids'].shape)\n"
   ]
  },
  {
   "cell_type": "code",
   "execution_count": 40,
   "metadata": {},
   "outputs": [
    {
     "name": "stderr",
     "output_type": "stream",
     "text": [
      "All model checkpoint layers were used when initializing TFT5ForConditionalGeneration.\n",
      "\n",
      "All the layers of TFT5ForConditionalGeneration were initialized from the model checkpoint at /Users/andrewasher/Education/Research Project/Andrew/custom-t5-model/model.\n",
      "If your task is similar to the task the model of the checkpoint was trained on, you can already use TFT5ForConditionalGeneration for predictions without further training.\n"
     ]
    }
   ],
   "source": [
    "from transformers import TFT5ForConditionalGeneration\n",
    "\n",
    "model_path = '/Users/andrewasher/Education/Research Project/Andrew/custom-t5-model/model'  .\n",
    "model = TFT5ForConditionalGeneration.from_pretrained(model_path)\n"
   ]
  },
  {
   "cell_type": "code",
   "execution_count": 42,
   "metadata": {},
   "outputs": [
    {
     "name": "stdout",
     "output_type": "stream",
     "text": [
      "Epoch 1/5\n",
      "3/3 [==============================] - 21s 5s/step - loss: 0.5993 - accuracy: 0.9057 - val_loss: 0.5315 - val_accuracy: 0.9092\n",
      "Epoch 2/5\n",
      "3/3 [==============================] - 13s 4s/step - loss: 0.4025 - accuracy: 0.9339 - val_loss: 0.4652 - val_accuracy: 0.9062\n",
      "Epoch 3/5\n",
      "3/3 [==============================] - 14s 4s/step - loss: 0.2883 - accuracy: 0.9440 - val_loss: 0.4524 - val_accuracy: 0.9043\n",
      "Epoch 4/5\n",
      "3/3 [==============================] - 14s 4s/step - loss: 0.2425 - accuracy: 0.9474 - val_loss: 0.4553 - val_accuracy: 0.9033\n",
      "Epoch 5/5\n",
      "3/3 [==============================] - 14s 4s/step - loss: 0.2009 - accuracy: 0.9590 - val_loss: 0.4482 - val_accuracy: 0.9072\n"
     ]
    }
   ],
   "source": [
    "import tensorflow as tf\n",
    "\n",
    "loss_object = tf.keras.losses.SparseCategoricalCrossentropy(from_logits=True)\n",
    "\n",
    "def loss_function(real, pred):\n",
    "    mask = tf.math.logical_not(tf.math.equal(real, 0))\n",
    "    loss_ = loss_object(real, pred)\n",
    "    mask = tf.cast(mask, dtype=loss_.dtype)\n",
    "    loss_ *= mask\n",
    "    return tf.reduce_sum(loss_)/tf.reduce_sum(mask)\n",
    "\n",
    "def accuracy(y_true, y_pred):\n",
    "    y_pred = tf.reshape(y_pred, (tf.shape(y_pred)[0], tf.shape(y_pred)[1], tf.shape(y_pred)[2]))\n",
    "    accuracy = tf.reduce_mean(tf.cast(tf.equal(tf.cast(y_true, tf.int32), tf.argmax(y_pred, axis=-1, output_type=tf.int32)), dtype=tf.float32))\n",
    "    return accuracy\n",
    "\n",
    "model.compile(optimizer='adam', loss=loss_function, metrics=[accuracy])\n",
    "\n",
    "# Prepare the data for training\n",
    "inputs = {\n",
    "    'input_ids': tokenized_inputs['input_ids'],\n",
    "    'attention_mask': tokenized_inputs['attention_mask'],\n",
    "    'labels': tokenized_outputs['input_ids'],\n",
    "}\n",
    "pad_token_id = tokenizer.pad_token_id\n",
    "inputs['decoder_input_ids'] = tf.pad(inputs['labels'][:, :-1], [[0, 0], [1, 0]], constant_values=pad_token_id)\n",
    "\n",
    "# Training the model further on your dataset\n",
    "history = model.fit(inputs, tokenized_outputs['input_ids'], batch_size=8, epochs=5, validation_split=0.1)\n"
   ]
  },
  {
   "cell_type": "code",
   "execution_count": 43,
   "metadata": {},
   "outputs": [
    {
     "data": {
      "text/plain": [
       "('//Users/andrewasher/Education/Research Project/Andrew/finetuned model/tokenizer_custom/tokenizer_config.json',\n",
       " '//Users/andrewasher/Education/Research Project/Andrew/finetuned model/tokenizer_custom/special_tokens_map.json',\n",
       " '//Users/andrewasher/Education/Research Project/Andrew/finetuned model/tokenizer_custom/spiece.model',\n",
       " '//Users/andrewasher/Education/Research Project/Andrew/finetuned model/tokenizer_custom/added_tokens.json')"
      ]
     },
     "execution_count": 43,
     "metadata": {},
     "output_type": "execute_result"
    }
   ],
   "source": [
    "save_path = '//Users/andrewasher/Education/Research Project/Andrew/finetuned model/'\n",
    "model.save_pretrained(save_path + 'model')\n",
    "tokenizer.save_pretrained(save_path + 'tokenizer_custom')\n"
   ]
  },
  {
   "cell_type": "markdown",
   "metadata": {},
   "source": [
    "okay now output"
   ]
  },
  {
   "cell_type": "code",
   "execution_count": 1,
   "metadata": {},
   "outputs": [],
   "source": [
    "from transformers import TFT5ForConditionalGeneration\n"
   ]
  },
  {
   "cell_type": "code",
   "execution_count": 2,
   "metadata": {},
   "outputs": [],
   "source": [
    "import tensorflow as tf\n",
    "from transformers import TFT5ForConditionalGeneration, T5Tokenizer\n"
   ]
  },
  {
   "cell_type": "code",
   "execution_count": 3,
   "metadata": {},
   "outputs": [],
   "source": [
    "# Specify the path to your model and tokenizer files\n",
    "model_path = \"/Users/andrewasher/Education/Research Project/Andrew/finetuned model/model\"\n",
    "tokenizer_path = \"/Users/andrewasher/Education/Research Project/Andrew/finetuned model/tokenizer_custom\"\n",
    "\n"
   ]
  },
  {
   "cell_type": "code",
   "execution_count": 4,
   "metadata": {},
   "outputs": [
    {
     "name": "stderr",
     "output_type": "stream",
     "text": [
      "All model checkpoint layers were used when initializing TFT5ForConditionalGeneration.\n",
      "\n",
      "All the layers of TFT5ForConditionalGeneration were initialized from the model checkpoint at /Users/andrewasher/Education/Research Project/Andrew/finetuned model/model.\n",
      "If your task is similar to the task the model of the checkpoint was trained on, you can already use TFT5ForConditionalGeneration for predictions without further training.\n",
      "Special tokens have been added in the vocabulary, make sure the associated word embeddings are fine-tuned or trained.\n"
     ]
    }
   ],
   "source": [
    "\n",
    "# Load the model and tokenizer\n",
    "model = TFT5ForConditionalGeneration.from_pretrained(model_path)\n",
    "tokenizer = T5Tokenizer.from_pretrained(tokenizer_path)\n"
   ]
  },
  {
   "cell_type": "code",
   "execution_count": 5,
   "metadata": {},
   "outputs": [],
   "source": [
    "# Define the input text that you want to summarize\n",
    "input_text = \"\"\"In a small, quiet village, there lived a poor artist named Maya. She longed for a magical paintbrush that could bring her paintings to life. One day, as she sat by the river, a talking frog appeared. The frog granted her wish, giving her a paintbrush that could make her dreams a reality. Maya’s first creation was a magnificent tree, and as soon as she painted it, it sprouted in her garden. Excitement filled her heart as she realized the power of the brush. She painted a river that flowed with crystal-clear water and a sky filled with brilliant stars. But soon, greed took over her heart. She painted a grand palace and began to live a life of luxury. Her friends and family, concerned by her change, tried to remind her of the happiness she once had. One day, Maya painted a beautiful bird and wished for it to sing. Instead, it let out a mournful cry. She realized that her magical brush had lost its power because she had used it for selfish desires. Filled with regret, Maya painted a simple, humble cottage and wished for her old life back. The cottage appeared, and her heart felt light once more. She returned to her village, where she shared her story and the lessons she had learned about the true meaning of happiness and contentment. The magical paintbrush remained in her hands, but she vowed to use it only for good, creating art that would inspire and bring joy to others. These short stories offer a glimpse into different worlds and lessons about kindness, curiosity, and the consequences of our choices.\n",
    "\"\"\""
   ]
  },
  {
   "cell_type": "code",
   "execution_count": 6,
   "metadata": {},
   "outputs": [
    {
     "name": "stderr",
     "output_type": "stream",
     "text": [
      "2023-10-30 23:15:56.335282: I tensorflow/compiler/xla/service/service.cc:168] XLA service 0x11838c880 initialized for platform Host (this does not guarantee that XLA will be used). Devices:\n",
      "2023-10-30 23:15:56.335293: I tensorflow/compiler/xla/service/service.cc:176]   StreamExecutor device (0): Host, Default Version\n",
      "2023-10-30 23:15:56.368334: I tensorflow/compiler/mlir/tensorflow/utils/dump_mlir_util.cc:269] disabling MLIR crash reproducer, set env var `MLIR_CRASH_REPRODUCER_DIRECTORY` to enable.\n",
      "2023-10-30 23:15:56.505306: I ./tensorflow/compiler/jit/device_compiler.h:186] Compiled cluster using XLA!  This line is logged at most once for the lifetime of the process.\n",
      "2023-10-30 23:15:56.506831: E ./tensorflow/compiler/xla/stream_executor/stream_executor_internal.h:124] SetPriority unimplemented for this stream.\n"
     ]
    }
   ],
   "source": [
    "# Tokenize and generate the summary\n",
    "input_ids = tokenizer.encode(\"summarize: \" + input_text, return_tensors=\"tf\", max_length=512, truncation=True)\n",
    "summary_ids = model.generate(input_ids, max_length=150, min_length=40, length_penalty=2.0, num_beams=4, early_stopping=True)\n"
   ]
  },
  {
   "cell_type": "code",
   "execution_count": 7,
   "metadata": {},
   "outputs": [
    {
     "name": "stdout",
     "output_type": "stream",
     "text": [
      "Generated Summary:\n",
      "a poor artist in a small village has lived a poor artist named Maya. She longed for a magical paintbrush that could bring her dreams to life. One day, Maya, a talking frog granted her wish, giving her a magical brush, a magical tree, and as soon as she painted it, it sprouted in her garden. Excitement filled her heart. She realized that her magical brush lost its power, painted a simple cottage and wished for her old life back. She returned to her village, sharing her story and lessons about kindness, curiosity, and the consequences of our choices.\n"
     ]
    }
   ],
   "source": [
    "# Decode the generated summary\n",
    "summary = tokenizer.decode(summary_ids[0], skip_special_tokens=True)\n",
    "\n",
    "# Print the summary\n",
    "print(\"Generated Summary:\")\n",
    "print(summary)"
   ]
  }
 ],
 "metadata": {
  "kernelspec": {
   "display_name": "myenv",
   "language": "python",
   "name": "python3"
  },
  "language_info": {
   "codemirror_mode": {
    "name": "ipython",
    "version": 3
   },
   "file_extension": ".py",
   "mimetype": "text/x-python",
   "name": "python",
   "nbconvert_exporter": "python",
   "pygments_lexer": "ipython3",
   "version": "3.10.9"
  },
  "orig_nbformat": 4
 },
 "nbformat": 4,
 "nbformat_minor": 2
}
