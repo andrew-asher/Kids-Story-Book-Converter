{
 "cells": [
  {
   "cell_type": "code",
   "execution_count": 10,
   "metadata": {},
   "outputs": [],
   "source": [
    "from transformers import AutoModelForSeq2SeqLM, AutoTokenizer"
   ]
  },
  {
   "cell_type": "code",
   "execution_count": 11,
   "metadata": {},
   "outputs": [],
   "source": [
    "# Import the required libraries\n",
    "from transformers import T5ForConditionalGeneration, T5Tokenizer"
   ]
  },
  {
   "cell_type": "code",
   "execution_count": 12,
   "metadata": {},
   "outputs": [
    {
     "name": "stderr",
     "output_type": "stream",
     "text": [
      "Special tokens have been added in the vocabulary, make sure the associated word embeddings are fine-tuned or trained.\n"
     ]
    }
   ],
   "source": [
    "\n",
    "# Initialize the T5 model and tokenizer for summarization\n",
    "model_name = \"t5-small\"\n",
    "tokenizer = T5Tokenizer.from_pretrained(model_name)\n",
    "model = T5ForConditionalGeneration.from_pretrained(model_name)"
   ]
  },
  {
   "cell_type": "code",
   "execution_count": 13,
   "metadata": {},
   "outputs": [],
   "source": [
    "input_text =  \"\"\"\n",
    "In a charming little village, there lived a curious boy named Andy. He was known for his love of adventure and his fondness for kites. One sunny morning, Andy decided to try out a special kite his grandfather had given him – a kite with a shimmering tail. As he flew the kite in the meadow, a gust of wind pulled it higher and higher. To Andy's amazement, the kite suddenly came to life! It introduced itself as Spark and explained that it had magical powers. Spark invited Andy to hop onto the kite's tail, promising to take him on a grand adventure. Without hesitation, Andy climbed aboard. The kite soared high into the sky, and in the blink of an eye, they were floating among the clouds. They visited a candy floss cloud, a chocolate river, and a marshmallow mountain. They even met a friendly cloud creature named Fluffy, who shared stories of the sky. Andy was in awe of the magical world above. As the sun began to set, Spark gently carried Andy back to the meadow. Andy thanked Spark for the incredible adventure and watched it float back to his hand. From that day forward, Andy's kite became his loyal friend and companion, and together they embarked on many more magical adventures, exploring the wonders of the world and beyond.\n",
    "\"\"\""
   ]
  },
  {
   "cell_type": "code",
   "execution_count": 14,
   "metadata": {},
   "outputs": [],
   "source": [
    "# Tokenize and generate the summary with a target length of around 70 words\n",
    "inputs = tokenizer.encode(\"summarize: \" + input_text, return_tensors=\"pt\", max_length=512, truncation=True)\n",
    "summary_ids = model.generate(inputs, max_length=70, min_length=30, length_penalty=2.0, num_beams=4, early_stopping=True)\n",
    "\n"
   ]
  },
  {
   "cell_type": "code",
   "execution_count": 15,
   "metadata": {},
   "outputs": [
    {
     "name": "stdout",
     "output_type": "stream",
     "text": [
      "Generated Summary:\n",
      "the kite soared high into the sky, and in the blink of an eye, they were floating among the clouds. they visited a candy floss cloud, a chocolate river, and a marshmallow mountain. Andy thanked Spark and watched it float back to his hand.\n"
     ]
    }
   ],
   "source": [
    "# Decode the generated summary\n",
    "summary = tokenizer.decode(summary_ids[0], skip_special_tokens=True)\n",
    "\n",
    "# Print the summary\n",
    "print(\"Generated Summary:\")\n",
    "print(summary)"
   ]
  },
  {
   "cell_type": "markdown",
   "metadata": {},
   "source": [
    "sayanthan sent custom model "
   ]
  },
  {
   "cell_type": "code",
   "execution_count": 16,
   "metadata": {},
   "outputs": [],
   "source": [
    "from transformers import TFT5ForConditionalGeneration\n"
   ]
  },
  {
   "cell_type": "code",
   "execution_count": 18,
   "metadata": {},
   "outputs": [],
   "source": [
    "import tensorflow as tf\n",
    "from transformers import TFT5ForConditionalGeneration, T5Tokenizer\n"
   ]
  },
  {
   "cell_type": "code",
   "execution_count": 19,
   "metadata": {},
   "outputs": [],
   "source": [
    "# Specify the path to your model and tokenizer files\n",
    "model_path = \"/Users/andrewasher/Education/Research Project/Andrew/custom-t5-model/model\"\n",
    "tokenizer_path = \"/Users/andrewasher/Education/Research Project/Andrew/custom-t5-model/tokenizer_custom\"\n",
    "\n"
   ]
  },
  {
   "cell_type": "code",
   "execution_count": 21,
   "metadata": {},
   "outputs": [
    {
     "name": "stderr",
     "output_type": "stream",
     "text": [
      "All model checkpoint layers were used when initializing TFT5ForConditionalGeneration.\n",
      "\n",
      "All the layers of TFT5ForConditionalGeneration were initialized from the model checkpoint at /Users/andrewasher/Education/Research Project/Andrew/custom-t5-model/model.\n",
      "If your task is similar to the task the model of the checkpoint was trained on, you can already use TFT5ForConditionalGeneration for predictions without further training.\n",
      "Special tokens have been added in the vocabulary, make sure the associated word embeddings are fine-tuned or trained.\n"
     ]
    }
   ],
   "source": [
    "\n",
    "# Load the model and tokenizer\n",
    "model = TFT5ForConditionalGeneration.from_pretrained(model_path)\n",
    "tokenizer = T5Tokenizer.from_pretrained(tokenizer_path)\n"
   ]
  },
  {
   "cell_type": "code",
   "execution_count": 22,
   "metadata": {},
   "outputs": [],
   "source": [
    "# Define the input text that you want to summarize\n",
    "input_text = \"\"\"\n",
    "In a charming little village, there lived a curious boy named Andy. He was known for his love of adventure and his fondness for kites. One sunny morning, Andy decided to try out a special kite his grandfather had given him – a kite with a shimmering tail. As he flew the kite in the meadow, a gust of wind pulled it higher and higher. To Andy's amazement, the kite suddenly came to life! It introduced itself as Spark and explained that it had magical powers. Spark invited Andy to hop onto the kite's tail, promising to take him on a grand adventure. Without hesitation, Andy climbed aboard. The kite soared high into the sky, and in the blink of an eye, they were floating among the clouds. They visited a candy floss cloud, a chocolate river, and a marshmallow mountain. They even met a friendly cloud creature named Fluffy, who shared stories of the sky. Andy was in awe of the magical world above. As the sun began to set, Spark gently carried Andy back to the meadow. Andy thanked Spark for the incredible adventure and watched it float back to his hand. From that day forward, Andy's kite became his loyal friend and companion, and together they embarked on many more magical adventures, exploring the wonders of the world and beyond.\n",
    "\"\"\"\n",
    "\n"
   ]
  },
  {
   "cell_type": "code",
   "execution_count": 23,
   "metadata": {},
   "outputs": [
    {
     "name": "stderr",
     "output_type": "stream",
     "text": [
      "2023-10-28 11:19:43.425668: I tensorflow/compiler/xla/service/service.cc:168] XLA service 0x16910ec20 initialized for platform Host (this does not guarantee that XLA will be used). Devices:\n",
      "2023-10-28 11:19:43.425680: I tensorflow/compiler/xla/service/service.cc:176]   StreamExecutor device (0): Host, Default Version\n",
      "2023-10-28 11:19:43.431056: I tensorflow/compiler/mlir/tensorflow/utils/dump_mlir_util.cc:269] disabling MLIR crash reproducer, set env var `MLIR_CRASH_REPRODUCER_DIRECTORY` to enable.\n",
      "2023-10-28 11:19:43.452419: I ./tensorflow/compiler/jit/device_compiler.h:186] Compiled cluster using XLA!  This line is logged at most once for the lifetime of the process.\n",
      "2023-10-28 11:19:43.452849: E ./tensorflow/compiler/xla/stream_executor/stream_executor_internal.h:124] SetPriority unimplemented for this stream.\n"
     ]
    }
   ],
   "source": [
    "# Tokenize and generate the summary\n",
    "input_ids = tokenizer.encode(\"summarize: \" + input_text, return_tensors=\"tf\", max_length=512, truncation=True)\n",
    "summary_ids = model.generate(input_ids, max_length=100, min_length=40, length_penalty=2.0, num_beams=4, early_stopping=True)\n"
   ]
  },
  {
   "cell_type": "code",
   "execution_count": 25,
   "metadata": {},
   "outputs": [
    {
     "name": "stdout",
     "output_type": "stream",
     "text": [
      "Generated Summary:\n",
      "– In a charming little village in California, a boy named Andy flew his kite into a meadow with a gust of wind pulled it higher and higher. To Andy's amazement, the kite suddenly came to life! It introduced itself as Spark and explained that it had magical powers. Spark invited Andy to hop onto the kite's tail, promising to take him on a grand adventure. The sky was a candy floss cloud,\n"
     ]
    }
   ],
   "source": [
    "# Decode the generated summary\n",
    "summary = tokenizer.decode(summary_ids[0], skip_special_tokens=True)\n",
    "\n",
    "# Print the summary\n",
    "print(\"Generated Summary:\")\n",
    "print(summary)"
   ]
  }
 ],
 "metadata": {
  "kernelspec": {
   "display_name": "myenv",
   "language": "python",
   "name": "python3"
  },
  "language_info": {
   "codemirror_mode": {
    "name": "ipython",
    "version": 3
   },
   "file_extension": ".py",
   "mimetype": "text/x-python",
   "name": "python",
   "nbconvert_exporter": "python",
   "pygments_lexer": "ipython3",
   "version": "3.10.9"
  },
  "orig_nbformat": 4
 },
 "nbformat": 4,
 "nbformat_minor": 2
}
